{
 "cells": [
  {
   "cell_type": "markdown",
   "metadata": {
    "colab_type": "text",
    "id": "nlfrpWIfqOtl"
   },
   "source": [
    "# Prerequesites and Imports"
   ]
  },
  {
   "cell_type": "markdown",
   "metadata": {
    "colab_type": "text",
    "id": "kb25Gqilp5gx"
   },
   "source": [
    "Installs all of the prerequesites, in the future might be more useful to use preexisting libraries so that I dont have to build models from scratch"
   ]
  },
  {
   "cell_type": "code",
   "execution_count": 15,
   "metadata": {
    "colab": {
     "base_uri": "https://localhost:8080/",
     "height": 34
    },
    "colab_type": "code",
    "id": "6IVEMXGGHrxh",
    "outputId": "d743090f-0445-4cb9-b594-81619e3b1665"
   },
   "outputs": [
    {
     "name": "stdout",
     "output_type": "stream",
     "text": [
      "Found GPU at: /device:GPU:0\n"
     ]
    }
   ],
   "source": [
    "from __future__ import absolute_import, division, print_function\n",
    "import gym\n",
    "from gym import logger as gymlogger\n",
    "from gym.wrappers import Monitor\n",
    "gymlogger.set_level(40) # error only\n",
    "import tensorflow as tf\n",
    "import numpy as np\n",
    "import random\n",
    "import matplotlib\n",
    "import matplotlib.pyplot as plt\n",
    "%matplotlib inline\n",
    "import math\n",
    "import glob\n",
    "import io\n",
    "import base64\n",
    "import imageio\n",
    "import IPython\n",
    "import os\n",
    "import gc\n",
    "import pprint\n",
    "from IPython.display import HTML\n",
    "from IPython.display import clear_output\n",
    "from sklearn import model_selection\n",
    "import time\n",
    "from PIL import Image\n",
    "import copy\n",
    "\n",
    "\n",
    "#import pyvirtualdisplay\n",
    "\n",
    "from IPython import display as ipythondisplay\n",
    "\n",
    "device_name = tf.test.gpu_device_name()\n",
    "if device_name != '/device:GPU:0':\n",
    "    raise SystemError('GPU device not found')\n",
    "print('Found GPU at: {}'.format(device_name))"
   ]
  },
  {
   "cell_type": "markdown",
   "metadata": {
    "colab_type": "text",
    "id": "gK6Ku6ofqrVF"
   },
   "source": [
    "# Model and Helper Funcitons"
   ]
  },
  {
   "cell_type": "markdown",
   "metadata": {
    "colab_type": "text",
    "id": "Vb9kLoZjq1ev"
   },
   "source": [
    "For this project I chose to use a CNN to approximate the policy function. The helper functions help to reduce the dimensionality of the input space so that the image is in grayscale. And letter function is to capture the output of the neural net."
   ]
  },
  {
   "cell_type": "code",
   "execution_count": 16,
   "metadata": {
    "colab": {
     "base_uri": "https://localhost:8080/",
     "height": 833
    },
    "colab_type": "code",
    "id": "kanU5_cPvPuk",
    "outputId": "27f27513-43ba-4bba-e6de-b8c974fd7287"
   },
   "outputs": [
    {
     "name": "stdout",
     "output_type": "stream",
     "text": [
      "Model: \"sequential_2\"\n",
      "_________________________________________________________________\n",
      "Layer (type)                 Output Shape              Param #   \n",
      "=================================================================\n",
      "conv2d_4 (Conv2D)            (None, 82, 82, 32)        1184      \n",
      "_________________________________________________________________\n",
      "max_pooling2d_4 (MaxPooling2 (None, 41, 41, 32)        0         \n",
      "_________________________________________________________________\n",
      "conv2d_5 (Conv2D)            (None, 39, 39, 64)        18496     \n",
      "_________________________________________________________________\n",
      "max_pooling2d_5 (MaxPooling2 (None, 19, 19, 64)        0         \n",
      "_________________________________________________________________\n",
      "flatten_2 (Flatten)          (None, 23104)             0         \n",
      "_________________________________________________________________\n",
      "dense_6 (Dense)              (None, 128)               2957440   \n",
      "_________________________________________________________________\n",
      "dense_7 (Dense)              (None, 128)               16512     \n",
      "_________________________________________________________________\n",
      "dense_8 (Dense)              (None, 9)                 1161      \n",
      "=================================================================\n",
      "Total params: 2,994,793\n",
      "Trainable params: 2,994,793\n",
      "Non-trainable params: 0\n",
      "_________________________________________________________________\n",
      "Model: \"sequential_3\"\n",
      "_________________________________________________________________\n",
      "Layer (type)                 Output Shape              Param #   \n",
      "=================================================================\n",
      "conv2d_6 (Conv2D)            (None, 82, 82, 32)        1184      \n",
      "_________________________________________________________________\n",
      "max_pooling2d_6 (MaxPooling2 (None, 41, 41, 32)        0         \n",
      "_________________________________________________________________\n",
      "conv2d_7 (Conv2D)            (None, 39, 39, 64)        18496     \n",
      "_________________________________________________________________\n",
      "max_pooling2d_7 (MaxPooling2 (None, 19, 19, 64)        0         \n",
      "_________________________________________________________________\n",
      "flatten_3 (Flatten)          (None, 23104)             0         \n",
      "_________________________________________________________________\n",
      "dense_9 (Dense)              (None, 128)               2957440   \n",
      "_________________________________________________________________\n",
      "dense_10 (Dense)             (None, 128)               16512     \n",
      "_________________________________________________________________\n",
      "dense_11 (Dense)             (None, 9)                 1161      \n",
      "=================================================================\n",
      "Total params: 2,994,793\n",
      "Trainable params: 2,994,793\n",
      "Non-trainable params: 0\n",
      "_________________________________________________________________\n"
     ]
    }
   ],
   "source": [
    "actor = tf.keras.models.Sequential()\n",
    "actor.add(tf.keras.layers.Conv2D(32, (3,3), activation=tf.nn.relu,input_shape=(84,84,4)))\n",
    "actor.add(tf.keras.layers.MaxPool2D(2,2))\n",
    "actor.add(tf.keras.layers.Conv2D(64, (3,3), activation=tf.nn.relu))\n",
    "actor.add(tf.keras.layers.MaxPool2D(2,2))\n",
    "actor.add(tf.keras.layers.Flatten())\n",
    "actor.add(tf.keras.layers.Dense(128))                      \n",
    "actor.add(tf.keras.layers.Dense(128))\n",
    "actor.add(tf.keras.layers.Dense(9, activation=tf.nn.sigmoid))\n",
    "actor.compile(optimizer='Adam',\n",
    "              loss=tf.keras.losses.MeanSquaredError(),\n",
    "              metrics=['accuracy'])\n",
    "actor.summary()\n",
    "\n",
    "\n",
    "critic = tf.keras.models.Sequential()\n",
    "critic.add(tf.keras.layers.Conv2D(32, (3,3), activation=tf.nn.relu,input_shape=(84,84,4)))\n",
    "critic.add(tf.keras.layers.MaxPool2D(2,2))\n",
    "critic.add(tf.keras.layers.Conv2D(64, (3,3), activation=tf.nn.relu))\n",
    "critic.add(tf.keras.layers.MaxPool2D(2,2))\n",
    "critic.add(tf.keras.layers.Flatten())\n",
    "critic.add(tf.keras.layers.Dense(128))                      \n",
    "critic.add(tf.keras.layers.Dense(128))\n",
    "critic.add(tf.keras.layers.Dense(9, activation=tf.nn.sigmoid))\n",
    "critic.compile(optimizer='Adam',\n",
    "              loss=tf.keras.losses.MeanSquaredError(),\n",
    "              metrics=['accuracy'])\n",
    "critic.summary()"
   ]
  },
  {
   "cell_type": "code",
   "execution_count": 17,
   "metadata": {
    "colab": {},
    "colab_type": "code",
    "id": "rsIgT_xxJKLd"
   },
   "outputs": [],
   "source": [
    "def rgb2gray(rgb):\n",
    "    return np.dot(rgb[...,:3], [0.2989, 0.5870, 0.1140])\n",
    "\n",
    "def transform_input(tensor):\n",
    "    num_elements = len(tensor)\n",
    "    new_tensor = []\n",
    "    for i in range(num_elements):\n",
    "        new_tensor.append(resize_image(tensor[i]))\n",
    "    new_tensor = np.asarray(new_tensor)\n",
    "    reshaped = new_tensor.reshape((84,84,num_elements))\n",
    "    return reshaped\n",
    "\n",
    "def get_move(output_tensor):\n",
    "    max = -10\n",
    "    move = -1\n",
    "    j = 0\n",
    "    max_list = []\n",
    "    for element in output_tensor:\n",
    "        if element >= max:\n",
    "            max_list.append(j)\n",
    "        j+=1 \n",
    "    return max_list[np.random.randint(0,len(max_list))]\n",
    "\n",
    "def resize_image(rgb):\n",
    "    img = Image.fromarray(rgb)\n",
    "    img = img.resize((84,84))\n",
    "    img = np.asarray(img, dtype=\"int32\")\n",
    "    return rgb2gray(img)\n",
    "\n",
    "def embed_mp4(filename):\n",
    "    \"\"\"Embeds an mp4 file in the notebook.\"\"\"\n",
    "    video = open(filename,'rb').read()\n",
    "    b64 = base64.b64encode(video)\n",
    "    tag = '''\n",
    "    <video width=\"640\" height=\"480\" controls>\n",
    "    <source src=\"data:video/mp4;base64,{0}\" type=\"video/mp4\">\n",
    "    Your browser does not support the video tag.\n",
    "    </video>'''.format(b64.decode())\n",
    "\n",
    "    return IPython.display.HTML(tag)\n",
    "\n",
    "def play_game(dqn, train = True):\n",
    "    game = dqn.game\n",
    "    done = False\n",
    "    move = 0\n",
    "    total_moves = 0\n",
    "    total_reward = 0\n",
    "    current_state = []\n",
    "    next_state = []\n",
    "    current_state.append(game.reset())\n",
    "    state, temp_reward, done, info = game.step(0)\n",
    "    current_state.append(state)\n",
    "    state, temp_reward, done, info = game.step(0)\n",
    "    current_state.append(state)\n",
    "    state, temp_reward, done, info = game.step(0)\n",
    "    current_state.append(state)\n",
    "    current_state = np.asarray(current_state)\n",
    "    current_state = transform_input(current_state)\n",
    "\n",
    "    while not done:\n",
    "        reward = 0\n",
    "\n",
    "        # Predict Next Move\n",
    "        currentQA = dqn.actor.predict(np.asarray([current_state]))[0]\n",
    "        currentQC = dqn.critic.predict(np.asarray([current_state]))[0]\n",
    "\n",
    "        # Chose Random Move With Chance e\n",
    "        if np.random.uniform(0,1) < dqn.e:\n",
    "            move = np.random.randint(0,9)\n",
    "        else: \n",
    "            move = get_move(currentQA)\n",
    "\n",
    "        ## Take the same move 4 times\n",
    "        state, temp_reward, done, info = game.step(move)\n",
    "        next_state.append(state)\n",
    "        reward += temp_reward\n",
    "        state, temp_reward, done, info = game.step(move)\n",
    "        next_state.append(state)\n",
    "        reward += temp_reward\n",
    "        state, temp_reward, done, info = game.step(move)\n",
    "        next_state.append(state)\n",
    "        reward += temp_reward\n",
    "        state, temp_reward, done, info = game.step(move)\n",
    "        next_state.append(state)\n",
    "        reward += temp_reward\n",
    "\n",
    "        total_reward+= reward\n",
    "\n",
    "        next_state = transform_input(np.asarray(next_state))\n",
    "\n",
    "        if train:\n",
    "            nextQA = dqn.actor.predict(np.asarray([next_state]))[0]\n",
    "            nextQC = dqn.critic.predict(np.asarray([next_state]))[0]\n",
    "            # Find reward vector\n",
    "            min_nextQ = min(nextQA.max(),nextQC.max())\n",
    "\n",
    "            error_vector = [reward + dqn.y*min_nextQ if  i == move else 0 for i in range(9)]\n",
    "\n",
    "            # Train model on new data\n",
    "            dqn.train_model(current_state, next_state, move, error_vector)\n",
    "\n",
    "        current_state = next_state\n",
    "        next_state = []\n",
    "    \n",
    "    return total_reward\n",
    "\n",
    "def calc_time_left(t1,t0, epochs, i):\n",
    "    time_left = (epochs -(i+1))*(t1-t0)\n",
    "    if time_left > 3600:\n",
    "        print(\"Epoch # \", i+1, \"out of\", epochs, \" Est. Time Left: \", time_left/3600.0, \" Hours\")\n",
    "    elif time_left > 60:\n",
    "        print(\"Epoch # \", i+1, \"out of\", epochs, \" Est. Time Left: \", time_left/60.0 , \" Minutes\")\n",
    "    else:\n",
    "        print(\"Epoch # \", i+1, \"out of\", epochs, \" Est. Time Left: \", time_left, \" seconds\")"
   ]
  },
  {
   "cell_type": "markdown",
   "metadata": {
    "colab_type": "text",
    "id": "PYLwHODKROPG"
   },
   "source": [
    "## DQN Class"
   ]
  },
  {
   "cell_type": "code",
   "execution_count": 18,
   "metadata": {
    "colab": {},
    "colab_type": "code",
    "id": "mNvMiG0t9Nl_"
   },
   "outputs": [],
   "source": [
    "class DQN:\n",
    "    def __init__(self, act_model, critic_model, y = .99, start_e = 1, end_e=.01, game_name='MsPacman-v0',experience_max = 5000):\n",
    "        self.actor = act_model\n",
    "        self.critic = critic_model\n",
    "        self.experience_max = experience_max\n",
    "        self.counter = 0\n",
    "        self.experience_total = 0\n",
    "        self.state = np.zeros((self.experience_max, 84,84,4))\n",
    "        #self.state_next = np.zeros((self.experience_max, 84,84,4))\n",
    "        #self.action = np.zeros((self.experience_max))\n",
    "        self.error = np.zeros((self.experience_max, 9))\n",
    "        self.game = gym.make(game_name)\n",
    "        self.y = y\n",
    "        self.e = start_e\n",
    "        self.end_e = end_e\n",
    "\n",
    "    def train_model(self, state, next_state, move, error):\n",
    "        self.state[self.counter] = state\n",
    "        #self.state_next[self.counter] = next_state\n",
    "        #self.action[self.counter] = move\n",
    "        self.error[self.counter] = error\n",
    "        self.counter += 1\n",
    "        self.experience_total +=1\n",
    "        if self.e > self.end_e:\n",
    "            self.e = self.e*.998\n",
    "        if self.experience_total < 2000:\n",
    "            return\n",
    "        else:\n",
    "            if self.experience_total > self.experience_max:\n",
    "                choices = np.random.choice(self.experience_max, 32)\n",
    "            else:\n",
    "                choices = np.random.choice(self.counter, 32)\n",
    "            train_x = self.state[choices]\n",
    "            train_y = self.error[choices]\n",
    "            self.actor.fit(train_x,train_y, verbose=0)\n",
    "            self.critic.fit(train_x,train_y, verbose=0)\n",
    "        if self.counter%(self.experience_max) == 0:\n",
    "            self.counter = 0\n",
    "\n",
    "    def test_model(self, test_games = 10):\n",
    "        game_scores = []\n",
    "\n",
    "        i = 0\n",
    "        for _ in range(test_games):\n",
    "            game_scores.append(play_game(self, train=False))\n",
    "            i +=1\n",
    "            print(i)\n",
    "\n",
    "        print(\"Mean: \",np.mean(game_scores))\n",
    "        print(\"Std Dev: \",np.std(game_scores))\n",
    "        print(\"Max: \",np.max(game_scores))\n",
    "\n",
    "    def watch_play(self):\n",
    "        filename = \"trained-agent2\" + \".mp4\"\n",
    "        reward = 0\n",
    "        with imageio.get_writer(filename, fps=30) as video:\n",
    "            game = gym.make('MsPacman-v0')\n",
    "            next_state = []\n",
    "            state = game.reset()\n",
    "            video.append_data(state)\n",
    "            next_state.append(state)\n",
    "            state, temp_reward, done, info = game.step(0)\n",
    "            next_state.append(state)\n",
    "            video.append_data(state)\n",
    "            reward += temp_reward\n",
    "            state, temp_reward, done, info = game.step(0)\n",
    "            next_state.append(state)\n",
    "            video.append_data(state)\n",
    "            reward += temp_reward\n",
    "            state, temp_reward, done, info = game.step(0)\n",
    "            next_state.append(state)\n",
    "            video.append_data(state)\n",
    "            reward += temp_reward\n",
    "\n",
    "            next_state = transform_input(np.asarray(next_state))\n",
    "            done = False\n",
    "            while not done:\n",
    "                move = get_move(self.actor.predict(np.asarray([next_state]))[0])\n",
    "                next_state = []\n",
    "                for i in range(4):\n",
    "                    state, temp_reward, done, info = game.step(move)\n",
    "                    next_state.append(state)\n",
    "                    video.append_data(state)\n",
    "                    reward += temp_reward\n",
    "\n",
    "            next_state = transform_input(np.asarray(next_state))\n",
    "        print(reward)\n",
    "        return embed_mp4(filename)\n",
    "\n",
    "    def save_model(self, file_name):\n",
    "        file_act = 'C:/Users/NathanGrant/Documents/PythonPrograms/PacMan/' + file_name+'Actor.h5'\n",
    "        file_crit = 'C:/Users/NathanGrant/Documents/PythonPrograms/PacMan/' + file_name+'Crit.h5'\n",
    "        self.actor.save(file_act)\n",
    "        self.critic.save(file_crit)\n",
    "        \n",
    "    def load_model(self, file_name):\n",
    "        file_act = 'C:/Users/NathanGrant/Documents/PythonPrograms/PacMan/'+file_name+'Actor.h5'\n",
    "        file_crit = 'C:/Users/NathanGrant/Documents/PythonPrograms/PacMan/'+file_name+'Crit.h5'\n",
    "        self.actor = tf.keras.models.load_model(file_act)\n",
    "        self.critic = tf.keras.models.load_model(file_crit)"
   ]
  },
  {
   "cell_type": "markdown",
   "metadata": {
    "colab_type": "text",
    "id": "6CnCchQ2rKvK"
   },
   "source": [
    "# Training"
   ]
  },
  {
   "cell_type": "markdown",
   "metadata": {
    "colab_type": "text",
    "id": "g7FrR7HOrg65"
   },
   "source": [
    "This block of code will train the model for a certain amount of games. Along the way it will keep track of the total amount of points to see how the model has improved over time."
   ]
  },
  {
   "cell_type": "code",
   "execution_count": 19,
   "metadata": {
    "colab": {},
    "colab_type": "code",
    "id": "s1te5Oz7ABMS"
   },
   "outputs": [],
   "source": [
    "dqn = DQN(actor, critic, experience_max=20000)"
   ]
  },
  {
   "cell_type": "code",
   "execution_count": 20,
   "metadata": {
    "colab": {
     "base_uri": "https://localhost:8080/",
     "height": 1000
    },
    "colab_type": "code",
    "id": "yBaxgUz2nTys",
    "outputId": "a432095f-2382-409a-aa56-b48201f8921a",
    "scrolled": true
   },
   "outputs": [
    {
     "name": "stdout",
     "output_type": "stream",
     "text": [
      "------------------------------------------------------------------\n",
      "Epoch #  70 out of 200  Est. Time Left:  6.711164848009745  Hours\n",
      "Total Frames:  47340 Current e:  0.009985630741373389\n",
      "Game Score:  440.0 Average Game Score:  386.0\n"
     ]
    },
    {
     "ename": "KeyboardInterrupt",
     "evalue": "",
     "output_type": "error",
     "traceback": [
      "\u001b[1;31m---------------------------------------------------------------------------\u001b[0m",
      "\u001b[1;31mKeyboardInterrupt\u001b[0m                         Traceback (most recent call last)",
      "\u001b[1;32m<ipython-input-20-3124136d9c27>\u001b[0m in \u001b[0;36m<module>\u001b[1;34m\u001b[0m\n\u001b[0;32m      7\u001b[0m \u001b[1;32mfor\u001b[0m \u001b[0mi\u001b[0m \u001b[1;32min\u001b[0m \u001b[0mrange\u001b[0m\u001b[1;33m(\u001b[0m\u001b[0mnum_games\u001b[0m\u001b[1;33m)\u001b[0m\u001b[1;33m:\u001b[0m\u001b[1;33m\u001b[0m\u001b[1;33m\u001b[0m\u001b[0m\n\u001b[0;32m      8\u001b[0m     \u001b[0mt0\u001b[0m \u001b[1;33m=\u001b[0m \u001b[0mtime\u001b[0m\u001b[1;33m.\u001b[0m\u001b[0mtime\u001b[0m\u001b[1;33m(\u001b[0m\u001b[1;33m)\u001b[0m\u001b[1;33m\u001b[0m\u001b[1;33m\u001b[0m\u001b[0m\n\u001b[1;32m----> 9\u001b[1;33m     \u001b[0mscore\u001b[0m \u001b[1;33m=\u001b[0m \u001b[0mplay_game\u001b[0m\u001b[1;33m(\u001b[0m\u001b[0mdqn\u001b[0m\u001b[1;33m)\u001b[0m\u001b[1;33m\u001b[0m\u001b[1;33m\u001b[0m\u001b[0m\n\u001b[0m\u001b[0;32m     10\u001b[0m     \u001b[0my\u001b[0m\u001b[1;33m.\u001b[0m\u001b[0mappend\u001b[0m\u001b[1;33m(\u001b[0m\u001b[0mscore\u001b[0m\u001b[1;33m)\u001b[0m\u001b[1;33m\u001b[0m\u001b[1;33m\u001b[0m\u001b[0m\n\u001b[0;32m     11\u001b[0m     \u001b[1;32mif\u001b[0m \u001b[0mi\u001b[0m \u001b[1;33m<\u001b[0m \u001b[1;36m5\u001b[0m\u001b[1;33m:\u001b[0m\u001b[1;33m\u001b[0m\u001b[1;33m\u001b[0m\u001b[0m\n",
      "\u001b[1;32m<ipython-input-17-0718385a05b1>\u001b[0m in \u001b[0;36mplay_game\u001b[1;34m(dqn, train)\u001b[0m\n\u001b[0;32m     87\u001b[0m         \u001b[0mtotal_reward\u001b[0m\u001b[1;33m+=\u001b[0m \u001b[0mreward\u001b[0m\u001b[1;33m\u001b[0m\u001b[1;33m\u001b[0m\u001b[0m\n\u001b[0;32m     88\u001b[0m \u001b[1;33m\u001b[0m\u001b[0m\n\u001b[1;32m---> 89\u001b[1;33m         \u001b[0mnext_state\u001b[0m \u001b[1;33m=\u001b[0m \u001b[0mtransform_input\u001b[0m\u001b[1;33m(\u001b[0m\u001b[0mnp\u001b[0m\u001b[1;33m.\u001b[0m\u001b[0masarray\u001b[0m\u001b[1;33m(\u001b[0m\u001b[0mnext_state\u001b[0m\u001b[1;33m)\u001b[0m\u001b[1;33m)\u001b[0m\u001b[1;33m\u001b[0m\u001b[1;33m\u001b[0m\u001b[0m\n\u001b[0m\u001b[0;32m     90\u001b[0m \u001b[1;33m\u001b[0m\u001b[0m\n\u001b[0;32m     91\u001b[0m         \u001b[1;32mif\u001b[0m \u001b[0mtrain\u001b[0m\u001b[1;33m:\u001b[0m\u001b[1;33m\u001b[0m\u001b[1;33m\u001b[0m\u001b[0m\n",
      "\u001b[1;32m<ipython-input-17-0718385a05b1>\u001b[0m in \u001b[0;36mtransform_input\u001b[1;34m(tensor)\u001b[0m\n\u001b[0;32m      6\u001b[0m     \u001b[0mnew_tensor\u001b[0m \u001b[1;33m=\u001b[0m \u001b[1;33m[\u001b[0m\u001b[1;33m]\u001b[0m\u001b[1;33m\u001b[0m\u001b[1;33m\u001b[0m\u001b[0m\n\u001b[0;32m      7\u001b[0m     \u001b[1;32mfor\u001b[0m \u001b[0mi\u001b[0m \u001b[1;32min\u001b[0m \u001b[0mrange\u001b[0m\u001b[1;33m(\u001b[0m\u001b[0mnum_elements\u001b[0m\u001b[1;33m)\u001b[0m\u001b[1;33m:\u001b[0m\u001b[1;33m\u001b[0m\u001b[1;33m\u001b[0m\u001b[0m\n\u001b[1;32m----> 8\u001b[1;33m         \u001b[0mnew_tensor\u001b[0m\u001b[1;33m.\u001b[0m\u001b[0mappend\u001b[0m\u001b[1;33m(\u001b[0m\u001b[0mresize_image\u001b[0m\u001b[1;33m(\u001b[0m\u001b[0mtensor\u001b[0m\u001b[1;33m[\u001b[0m\u001b[0mi\u001b[0m\u001b[1;33m]\u001b[0m\u001b[1;33m)\u001b[0m\u001b[1;33m)\u001b[0m\u001b[1;33m\u001b[0m\u001b[1;33m\u001b[0m\u001b[0m\n\u001b[0m\u001b[0;32m      9\u001b[0m     \u001b[0mnew_tensor\u001b[0m \u001b[1;33m=\u001b[0m \u001b[0mnp\u001b[0m\u001b[1;33m.\u001b[0m\u001b[0masarray\u001b[0m\u001b[1;33m(\u001b[0m\u001b[0mnew_tensor\u001b[0m\u001b[1;33m)\u001b[0m\u001b[1;33m\u001b[0m\u001b[1;33m\u001b[0m\u001b[0m\n\u001b[0;32m     10\u001b[0m     \u001b[0mreshaped\u001b[0m \u001b[1;33m=\u001b[0m \u001b[0mnew_tensor\u001b[0m\u001b[1;33m.\u001b[0m\u001b[0mreshape\u001b[0m\u001b[1;33m(\u001b[0m\u001b[1;33m(\u001b[0m\u001b[1;36m84\u001b[0m\u001b[1;33m,\u001b[0m\u001b[1;36m84\u001b[0m\u001b[1;33m,\u001b[0m\u001b[0mnum_elements\u001b[0m\u001b[1;33m)\u001b[0m\u001b[1;33m)\u001b[0m\u001b[1;33m\u001b[0m\u001b[1;33m\u001b[0m\u001b[0m\n",
      "\u001b[1;32m<ipython-input-17-0718385a05b1>\u001b[0m in \u001b[0;36mresize_image\u001b[1;34m(rgb)\u001b[0m\n\u001b[0;32m     26\u001b[0m     \u001b[0mimg\u001b[0m \u001b[1;33m=\u001b[0m \u001b[0mimg\u001b[0m\u001b[1;33m.\u001b[0m\u001b[0mresize\u001b[0m\u001b[1;33m(\u001b[0m\u001b[1;33m(\u001b[0m\u001b[1;36m84\u001b[0m\u001b[1;33m,\u001b[0m\u001b[1;36m84\u001b[0m\u001b[1;33m)\u001b[0m\u001b[1;33m)\u001b[0m\u001b[1;33m\u001b[0m\u001b[1;33m\u001b[0m\u001b[0m\n\u001b[0;32m     27\u001b[0m     \u001b[0mimg\u001b[0m \u001b[1;33m=\u001b[0m \u001b[0mnp\u001b[0m\u001b[1;33m.\u001b[0m\u001b[0masarray\u001b[0m\u001b[1;33m(\u001b[0m\u001b[0mimg\u001b[0m\u001b[1;33m,\u001b[0m \u001b[0mdtype\u001b[0m\u001b[1;33m=\u001b[0m\u001b[1;34m\"int32\"\u001b[0m\u001b[1;33m)\u001b[0m\u001b[1;33m\u001b[0m\u001b[1;33m\u001b[0m\u001b[0m\n\u001b[1;32m---> 28\u001b[1;33m     \u001b[1;32mreturn\u001b[0m \u001b[0mrgb2gray\u001b[0m\u001b[1;33m(\u001b[0m\u001b[0mimg\u001b[0m\u001b[1;33m)\u001b[0m\u001b[1;33m\u001b[0m\u001b[1;33m\u001b[0m\u001b[0m\n\u001b[0m\u001b[0;32m     29\u001b[0m \u001b[1;33m\u001b[0m\u001b[0m\n\u001b[0;32m     30\u001b[0m \u001b[1;32mdef\u001b[0m \u001b[0membed_mp4\u001b[0m\u001b[1;33m(\u001b[0m\u001b[0mfilename\u001b[0m\u001b[1;33m)\u001b[0m\u001b[1;33m:\u001b[0m\u001b[1;33m\u001b[0m\u001b[1;33m\u001b[0m\u001b[0m\n",
      "\u001b[1;32m<ipython-input-17-0718385a05b1>\u001b[0m in \u001b[0;36mrgb2gray\u001b[1;34m(rgb)\u001b[0m\n\u001b[0;32m      1\u001b[0m \u001b[1;32mdef\u001b[0m \u001b[0mrgb2gray\u001b[0m\u001b[1;33m(\u001b[0m\u001b[0mrgb\u001b[0m\u001b[1;33m)\u001b[0m\u001b[1;33m:\u001b[0m\u001b[1;33m\u001b[0m\u001b[1;33m\u001b[0m\u001b[0m\n\u001b[1;32m----> 2\u001b[1;33m     \u001b[1;32mreturn\u001b[0m \u001b[0mnp\u001b[0m\u001b[1;33m.\u001b[0m\u001b[0mdot\u001b[0m\u001b[1;33m(\u001b[0m\u001b[0mrgb\u001b[0m\u001b[1;33m[\u001b[0m\u001b[1;33m...\u001b[0m\u001b[1;33m,\u001b[0m\u001b[1;33m:\u001b[0m\u001b[1;36m3\u001b[0m\u001b[1;33m]\u001b[0m\u001b[1;33m,\u001b[0m \u001b[1;33m[\u001b[0m\u001b[1;36m0.2989\u001b[0m\u001b[1;33m,\u001b[0m \u001b[1;36m0.5870\u001b[0m\u001b[1;33m,\u001b[0m \u001b[1;36m0.1140\u001b[0m\u001b[1;33m]\u001b[0m\u001b[1;33m)\u001b[0m\u001b[1;33m\u001b[0m\u001b[1;33m\u001b[0m\u001b[0m\n\u001b[0m\u001b[0;32m      3\u001b[0m \u001b[1;33m\u001b[0m\u001b[0m\n\u001b[0;32m      4\u001b[0m \u001b[1;32mdef\u001b[0m \u001b[0mtransform_input\u001b[0m\u001b[1;33m(\u001b[0m\u001b[0mtensor\u001b[0m\u001b[1;33m)\u001b[0m\u001b[1;33m:\u001b[0m\u001b[1;33m\u001b[0m\u001b[1;33m\u001b[0m\u001b[0m\n\u001b[0;32m      5\u001b[0m     \u001b[0mnum_elements\u001b[0m \u001b[1;33m=\u001b[0m \u001b[0mlen\u001b[0m\u001b[1;33m(\u001b[0m\u001b[0mtensor\u001b[0m\u001b[1;33m)\u001b[0m\u001b[1;33m\u001b[0m\u001b[1;33m\u001b[0m\u001b[0m\n",
      "\u001b[1;31mKeyboardInterrupt\u001b[0m: "
     ]
    }
   ],
   "source": [
    "num_games = 200\n",
    "dqn.load_model(\"DDQN\")\n",
    "num_frames = []\n",
    "moving_average = []\n",
    "y = []\n",
    "t_start = time.time()\n",
    "for i in range(num_games):\n",
    "    t0 = time.time()\n",
    "    score = play_game(dqn)\n",
    "    y.append(score)\n",
    "    if i < 5:\n",
    "        moving_average.append(np.mean(y))\n",
    "    else:\n",
    "        moving_average.append(np.mean(y[-5:]))\n",
    "    num_frames.append(dqn.experience_total*4)\n",
    "\n",
    "    t1 = time.time()\n",
    "    gc.collect()\n",
    "    clear_output()\n",
    "    print(\"------------------------------------------------------------------\")\n",
    "    calc_time_left(t1,t0,num_games,i)\n",
    "    print(\"Total Frames: \", dqn.experience_total*4, \"Current e: \", dqn.e)\n",
    "    print(\"Game Score: \", y[i], \"Average Game Score: \", moving_average[i])\n",
    "    if i %10 == 0:\n",
    "        dqn.save_model(\"DDQN\")\n",
    "\n",
    "t_end = time.time()\n",
    "print(t_end-t_start)\n",
    "\n",
    "dqn.save_model(\"DDQN\")"
   ]
  },
  {
   "cell_type": "code",
   "execution_count": 21,
   "metadata": {
    "colab": {
     "base_uri": "https://localhost:8080/",
     "height": 163
    },
    "colab_type": "code",
    "id": "Tg9Pcl1chMEH",
    "outputId": "b76ad283-7cf8-426c-90e8-4f934f8aab80"
   },
   "outputs": [
    {
     "data": {
      "text/plain": [
       "[<matplotlib.lines.Line2D at 0x1d1f57bc048>,\n",
       " <matplotlib.lines.Line2D at 0x1d20d7faec8>]"
      ]
     },
     "execution_count": 21,
     "metadata": {},
     "output_type": "execute_result"
    },
    {
     "data": {
      "image/png": "[encoded data removed]",
      "text/plain": [
       "<Figure size 432x288 with 1 Axes>"
      ]
     },
     "metadata": {
      "needs_background": "light"
     },
     "output_type": "display_data"
    }
   ],
   "source": [
    "plt.plot(num_frames,y,num_frames,moving_average)"
   ]
  },
  {
   "cell_type": "markdown",
   "metadata": {
    "colab_type": "text",
    "id": "jq6w1n11ryzd"
   },
   "source": [
    "# Testing"
   ]
  },
  {
   "cell_type": "markdown",
   "metadata": {
    "colab_type": "text",
    "id": "4sGSDE_Kr26F"
   },
   "source": [
    "This section deals with testing the models performance in pac-man and helping to visualize how its doing as well."
   ]
  },
  {
   "cell_type": "code",
   "execution_count": null,
   "metadata": {
    "colab": {
     "base_uri": "https://localhost:8080/",
     "height": 555
    },
    "colab_type": "code",
    "id": "1--2-ZxKgYjY",
    "outputId": "64837ed1-8819-4c03-cd03-37aee1fd1a4d"
   },
   "outputs": [],
   "source": [
    "dqn.load_model(\"The_real_stuff\")\n",
    "dqn.watch_play()"
   ]
  },
  {
   "cell_type": "code",
   "execution_count": null,
   "metadata": {
    "colab": {
     "base_uri": "https://localhost:8080/",
     "height": 327
    },
    "colab_type": "code",
    "id": "t2QG1hN99KTi",
    "outputId": "00dc9521-538b-4370-f7c2-20c94dfa2264"
   },
   "outputs": [],
   "source": [
    "dqn.test_model(test_games=10)"
   ]
  },
  {
   "cell_type": "markdown",
   "metadata": {
    "colab_type": "text",
    "id": "JHFoMloLsIJ9"
   },
   "source": [
    "This will load up the selected model and run as many games as you want of it until they are all completed. Then it will take the average score, max score and the standatd deviation of all of these games to get a better sense of how its doing through getting a bigger sample. "
   ]
  },
  {
   "cell_type": "markdown",
   "metadata": {
    "colab_type": "text",
    "id": "MrxNMUZLsjfC"
   },
   "source": [
    "This will run a random instance of pac-man from a selected model and display it as a video in the notebook so you can see it real time. In the future I plan to make it so that you can save it to your google drive."
   ]
  }
 ],
 "metadata": {
  "accelerator": "GPU",
  "colab": {
   "collapsed_sections": [],
   "machine_shape": "hm",
   "name": "PacMan.ipynb",
   "provenance": [],
   "toc_visible": true
  },
  "kernelspec": {
   "display_name": "Python 3",
   "language": "python",
   "name": "python3"
  },
  "language_info": {
   "codemirror_mode": {
    "name": "ipython",
    "version": 3
   },
   "file_extension": ".py",
   "mimetype": "text/x-python",
   "name": "python",
   "nbconvert_exporter": "python",
   "pygments_lexer": "ipython3",
   "version": "3.7.4"
  }
 },
 "nbformat": 4,
 "nbformat_minor": 1
}
